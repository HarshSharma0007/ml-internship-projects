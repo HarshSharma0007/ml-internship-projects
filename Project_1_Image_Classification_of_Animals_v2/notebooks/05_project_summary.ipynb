{
 "cells": [
  {
   "cell_type": "markdown",
   "id": "a6eb3221",
   "metadata": {},
   "source": [
    "# 🦁 Project 1: Image Classification of 15 Animals\n",
    "\n",
    "> A robust animal classifier trained using transfer learning with ResNet18."
   ]
  },
  {
   "cell_type": "markdown",
   "id": "e847c113",
   "metadata": {},
   "source": [
    "### 🧠 Overview\n",
    "- **Classes**: 15 animal species\n",
    "- **Model**: ResNet18 with frozen encoder\n",
    "- **Tools**: PyTorch, MLflow, Matplotlib\n",
    "- **Accuracy**: 91.78% on test set"
   ]
  },
  {
   "cell_type": "markdown",
   "id": "d11c10d6",
   "metadata": {},
   "source": [
    "### 💻 Imports & Config "
   ]
  },
  {
   "cell_type": "code",
   "execution_count": null,
   "id": "7affb491",
   "metadata": {},
   "outputs": [],
   "source": [
    "# === Cell 1: Imports & Config ===\n",
    "import os\n",
    "import sys\n",
    "import glob\n",
    "import torch\n",
    "import matplotlib.pyplot as plt\n",
    "from PIL import Image as PILImage\n",
    "from IPython.display import Image as DisplayImage\n",
    "\n",
    "from torchvision import transforms\n",
    "import warnings\n",
    "warnings.filterwarnings('ignore')\n",
    "\n",
    "project_root = os.path.abspath(\"..\")\n",
    "if project_root not in sys.path:\n",
    "    sys.path.insert(0, project_root)\n",
    "from src.config import DEVICE\n",
    "from src.models.resnet import get_model\n",
    "from src.dataloader import get_dataloaders\n",
    "\n",
    "class_names = [\n",
    "    \"Bear\", \"Bird\", \"Cat\", \"Cow\", \"Deer\", \"Dog\", \"Dolphin\",\n",
    "    \"Elephant\", \"Giraffe\", \"Horse\", \"Kangaroo\", \"Lion\", \"Panda\",\n",
    "    \"Tiger\", \"Zebra\"\n",
    "]\n",
    "def get_latest_model(path=\"../models\", pattern=\"*.pt\"):\n",
    "    files = glob.glob(os.path.join(path, pattern))\n",
    "    if not files:\n",
    "        raise FileNotFoundError(f\"No .pt files found in: {os.path.abspath(path)}\")\n",
    "    return max(files, key=os.path.getctime)\n",
    "\n",
    "model = get_model()\n",
    "model_path = get_latest_model()\n",
    "model.load_state_dict(torch.load(model_path, map_location=DEVICE))\n",
    "# model.to(DEVICE).eval()\n",
    "# display(model)"
   ]
  },
  {
   "cell_type": "markdown",
   "id": "43efdb20",
   "metadata": {},
   "source": [
    "### 🔧 Architecture Summary"
   ]
  },
  {
   "cell_type": "code",
   "execution_count": null,
   "id": "e32a9479",
   "metadata": {},
   "outputs": [],
   "source": [
    "# === Cell 2: Architecture Summary ===\n",
    "print(model)"
   ]
  },
  {
   "cell_type": "markdown",
   "id": "c8f31a7b",
   "metadata": {},
   "source": [
    "### 📈 Evaluation & Prediction"
   ]
  },
  {
   "cell_type": "code",
   "execution_count": null,
   "id": "e0ba7cbb",
   "metadata": {},
   "outputs": [],
   "source": [
    "# === Cell 3: Show Accuracy Curve ===\n",
    "from IPython.display import Image, display\n",
    "display(Image(filename=\"../reports/final_accuracy_plot.png\"))"
   ]
  },
  {
   "cell_type": "code",
   "execution_count": null,
   "id": "cef9bb97",
   "metadata": {},
   "outputs": [],
   "source": [
    "# === Cell 4: Show Confusion Matrix ===\n",
    "display(Image(filename=\"../reports/confusion_matrix.png\"))"
   ]
  },
  {
   "cell_type": "code",
   "execution_count": null,
   "id": "813e27bf",
   "metadata": {},
   "outputs": [],
   "source": [
    "# === Cell 5: Visualize Predictions ===\n",
    "transform = transforms.Compose([\n",
    "    transforms.Resize((224, 224)),\n",
    "    transforms.ToTensor()\n",
    "])\n",
    "\n",
    "# def predict_from_path(img_path):\n",
    "#     img = Image.open(img_path).convert(\"RGB\")\n",
    "#     img_tensor = transform(img).unsqueeze(0).to(DEVICE)\n",
    "#     with torch.no_grad():\n",
    "#         pred = model(img_tensor).argmax(dim=1).item()\n",
    "#     return class_names[pred]\n",
    "def predict_from_path(img_path):\n",
    "    img = PILImage.open(img_path).convert(\"RGB\")\n",
    "    img_tensor = transform(img).unsqueeze(0).to(DEVICE)\n",
    "    with torch.no_grad():\n",
    "        pred = model(img_tensor).argmax(dim=1).item()\n",
    "    return class_names[pred]\n",
    "\n",
    "# Example usage\n",
    "test_img = r\"..\\data\\raw\\Bird\\Bird_1_1.jpg\"\n",
    "prediction = predict_from_path(test_img)\n",
    "\n",
    "display(DisplayImage(filename=test_img))\n",
    "\n",
    "actual_class = os.path.basename(os.path.dirname(test_img))\n",
    "\n",
    "print(f\"✅ Actual class   : {actual_class}\")\n",
    "print(f\"🧠 Predicted class: {prediction}\")\n"
   ]
  },
  {
   "cell_type": "code",
   "execution_count": null,
   "id": "8f0a948d",
   "metadata": {},
   "outputs": [],
   "source": []
  },
  {
   "cell_type": "markdown",
   "id": "82b4287a",
   "metadata": {},
   "source": [
    "## 💡 Highlights\n",
    "- **Test Accuracy**: 91.78%\n",
    "- **Best Model Saved**: `resnet18_20250702_155758.pt`\n",
    "- **Tracked with**: MLflow\n",
    "- **Visualized With**: Matplotlib & Scikit-learn\n",
    "\n"
   ]
  },
  {
   "cell_type": "markdown",
   "id": "3bfa131a",
   "metadata": {},
   "source": [
    "## 📦 Reproducibility\n",
    "```bash\n",
    "pip install -r requirements.txt\n",
    "python train.py\n",
    "```"
   ]
  },
  {
   "cell_type": "markdown",
   "id": "357a88d0",
   "metadata": {},
   "source": [
    "## 📊 Raw Metrics Visualization\n",
    "\n",
    "The following visualization aggregates all tracked metrics from MLflow logs across epochs—such as training accuracy, validation accuracy, loss curves, and other custom metrics. It offers a holistic overview of the model’s learning behavior throughout training:\n"
   ]
  },
  {
   "cell_type": "code",
   "execution_count": null,
   "id": "0b40082d",
   "metadata": {},
   "outputs": [],
   "source": [
    "from IPython.display import Image, display\n",
    "\n",
    "display(Image(filename=\"../reports/Visualize All Metrics from Raw Logs.png\"))\n"
   ]
  },
  {
   "cell_type": "code",
   "execution_count": null,
   "id": "d0f3b84a",
   "metadata": {},
   "outputs": [],
   "source": []
  }
 ],
 "metadata": {
  "kernelspec": {
   "display_name": "Python 3",
   "language": "python",
   "name": "python3"
  },
  "language_info": {
   "codemirror_mode": {
    "name": "ipython",
    "version": 3
   },
   "file_extension": ".py",
   "mimetype": "text/x-python",
   "name": "python",
   "nbconvert_exporter": "python",
   "pygments_lexer": "ipython3",
   "version": "3.12.6"
  }
 },
 "nbformat": 4,
 "nbformat_minor": 5
}
