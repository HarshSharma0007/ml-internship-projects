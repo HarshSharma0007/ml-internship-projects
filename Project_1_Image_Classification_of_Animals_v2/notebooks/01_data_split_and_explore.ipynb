{
 "cells": [
  {
   "cell_type": "markdown",
   "id": "d118fef8",
   "metadata": {},
   "source": [
    "### **Step1 : Importing Libraries**"
   ]
  },
  {
   "cell_type": "code",
   "execution_count": null,
   "id": "d4f72284",
   "metadata": {},
   "outputs": [],
   "source": [
    "import os, shutil\n",
    "import pandas as pd\n",
    "from sklearn.model_selection import train_test_split\n",
    "from tqdm import tqdm\n",
    "import matplotlib.pyplot as plt\n",
    "%matplotlib inline\n",
    "import seaborn as sns"
   ]
  },
  {
   "cell_type": "code",
   "execution_count": null,
   "id": "705dec45",
   "metadata": {},
   "outputs": [],
   "source": [
    "RAW_DIR = \"../data/raw\"\n",
    "PROC_DIR = \"../data/processed\"\n",
    "\n",
    "# Make directories\n",
    "for split in ['train', 'val', 'test']:\n",
    "    for cls in os.listdir(RAW_DIR):\n",
    "        os.makedirs(os.path.join(PROC_DIR, split, cls), exist_ok=True)"
   ]
  },
  {
   "cell_type": "markdown",
   "id": "4f25387b",
   "metadata": {},
   "source": [
    "#### **Create File DataFrame**"
   ]
  },
  {
   "cell_type": "code",
   "execution_count": null,
   "id": "f264bda5",
   "metadata": {},
   "outputs": [],
   "source": [
    "filepaths = []\n",
    "for cls in os.listdir(RAW_DIR):\n",
    "    cls_path = os.path.join(RAW_DIR, cls)\n",
    "    if not os.path.isdir(cls_path): continue\n",
    "    for fname in os.listdir(cls_path):\n",
    "        filepaths.append((os.path.join(cls_path, fname), cls))\n",
    "\n",
    "df = pd.DataFrame(filepaths, columns=[\"filepath\", \"label\"])\n",
    "df = df.sample(frac=1, random_state=42).reset_index(drop=True)"
   ]
  },
  {
   "cell_type": "markdown",
   "id": "2b508287",
   "metadata": {},
   "source": [
    "#### **Class Distribution (Before Splitting)**"
   ]
  },
  {
   "cell_type": "markdown",
   "id": "28062c51",
   "metadata": {},
   "source": [
    "Adding Viz for calculation of the counts of images of each class"
   ]
  },
  {
   "cell_type": "code",
   "execution_count": null,
   "id": "be4c2fc7",
   "metadata": {},
   "outputs": [],
   "source": [
    "plt.figure(figsize=(10, 5))\n",
    "sns.countplot(data=df, x='label', order=df['label'].value_counts().index)\n",
    "plt.title(\"📊 Original Class Distribution\")\n",
    "plt.xticks(rotation=45)\n",
    "plt.show()\n"
   ]
  },
  {
   "cell_type": "markdown",
   "id": "fb0904d9",
   "metadata": {},
   "source": [
    "#### **Stratified Split**"
   ]
  },
  {
   "cell_type": "code",
   "execution_count": null,
   "id": "3a3f73d3",
   "metadata": {},
   "outputs": [],
   "source": [
    "train_df, temp_df = train_test_split(df, test_size=0.3, stratify=df['label'], random_state=42)\n",
    "val_df, test_df = train_test_split(temp_df, test_size=0.5, stratify=temp_df['label'], random_state=42)\n",
    "\n",
    "print(f\"Train: {len(train_df)}, Val: {len(val_df)}, Test: {len(test_df)}\")\n"
   ]
  },
  {
   "cell_type": "markdown",
   "id": "76754556",
   "metadata": {},
   "source": [
    "🔄 Stratified Data Splitting (3-way: Train, Val, Test)\n",
    "\n",
    "You're taking your full dataset `df` and splitting it into three sets while **preserving the class distribution** (a technique called stratified sampling):\n",
    "\n",
    "Step 1: Train + Temp (70% / 30%)\n",
    "\n",
    "- **train_df** gets 70% of the total data.\n",
    "- **temp_df** holds the remaining 30%.\n",
    "- **stratify=df['label']** ensures every class is represented in roughly the same proportion across all splits.\n",
    "- **random_state=42** makes the split reproducible.\n",
    "\n",
    "Step 2: Val + Test (15% / 15%)\n",
    "\n",
    "- Take that 30% temporary set and split it evenly:\n",
    "  - 15% to **val_df**\n",
    "  - 15% to **test_df**\n",
    "- Again, it uses stratified splitting."
   ]
  },
  {
   "cell_type": "markdown",
   "id": "1a0b40a8",
   "metadata": {},
   "source": [
    "#### **Class Distribution Across Splits**"
   ]
  },
  {
   "cell_type": "code",
   "execution_count": null,
   "id": "3a76c274",
   "metadata": {},
   "outputs": [],
   "source": [
    "def plot_split_dist(df_list, labels=[\"Train\", \"Val\", \"Test\"]):\n",
    "    plt.figure(figsize=(12, 4))\n",
    "    for i, split_df in enumerate(df_list):\n",
    "        plt.subplot(1, 3, i+1)\n",
    "        sns.countplot(data=split_df, x='label', order=split_df['label'].value_counts().index)\n",
    "        plt.title(f\"{labels[i]} Distribution\")\n",
    "        plt.xticks(rotation=45)\n",
    "    plt.tight_layout()\n",
    "    plt.show()\n",
    "\n",
    "plot_split_dist([train_df, val_df, test_df])"
   ]
  },
  {
   "cell_type": "markdown",
   "id": "9da402bf",
   "metadata": {},
   "source": [
    "#### **Copy Files to `data/processed/`**"
   ]
  },
  {
   "cell_type": "code",
   "execution_count": null,
   "id": "ec4e1611",
   "metadata": {},
   "outputs": [],
   "source": [
    "def copy_to_split(df_subset, split):\n",
    "    for src, label in tqdm(df_subset[[\"filepath\", \"label\"]].values):\n",
    "        dst = os.path.join(PROC_DIR, split, label, os.path.basename(src))\n",
    "        shutil.copy2(src, dst)\n",
    "\n",
    "copy_to_split(train_df, \"train\")\n",
    "copy_to_split(val_df, \"val\")\n",
    "copy_to_split(test_df, \"test\")\n"
   ]
  },
  {
   "cell_type": "code",
   "execution_count": null,
   "id": "bdf7183c",
   "metadata": {},
   "outputs": [],
   "source": [
    "def log_class_counts(*splits, split_names=[\"Train\", \"Val\", \"Test\"]):\n",
    "    print(\"📋 Image Count per Class per Split\\n\")\n",
    "    summary = {}\n",
    "    for df, name in zip(splits, split_names):\n",
    "        counts = df['label'].value_counts().sort_index()\n",
    "        summary[name] = counts\n",
    "    summary_df = pd.DataFrame(summary).fillna(0).astype(int)\n",
    "    # display(summary_df)\n",
    "    return summary_df\n",
    "\n",
    "log_class_counts(train_df, val_df, test_df)\n",
    "# Log the processed DataFrames "
   ]
  },
  {
   "cell_type": "markdown",
   "id": "91af0d08",
   "metadata": {},
   "source": [
    "#### **Save to CSV in `reports/`**"
   ]
  },
  {
   "cell_type": "code",
   "execution_count": null,
   "id": "1676d7a2",
   "metadata": {},
   "outputs": [],
   "source": [
    "summary_df = log_class_counts(train_df, val_df, test_df)\n",
    "summary_df.to_csv(\"../reports/class_distribution_summary.csv\")"
   ]
  },
  {
   "cell_type": "code",
   "execution_count": null,
   "id": "7aa0ff99",
   "metadata": {},
   "outputs": [],
   "source": []
  }
 ],
 "metadata": {
  "kernelspec": {
   "display_name": "Python 3",
   "language": "python",
   "name": "python3"
  },
  "language_info": {
   "codemirror_mode": {
    "name": "ipython",
    "version": 3
   },
   "file_extension": ".py",
   "mimetype": "text/x-python",
   "name": "python",
   "nbconvert_exporter": "python",
   "pygments_lexer": "ipython3",
   "version": "3.12.6"
  }
 },
 "nbformat": 4,
 "nbformat_minor": 5
}
