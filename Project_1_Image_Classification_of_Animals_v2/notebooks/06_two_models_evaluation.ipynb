{
 "cells": [
  {
   "cell_type": "markdown",
   "id": "8e65b6df",
   "metadata": {},
   "source": [
    "### Import"
   ]
  },
  {
   "cell_type": "code",
   "execution_count": 1,
   "id": "eea2b2b6",
   "metadata": {},
   "outputs": [],
   "source": [
    "import os\n",
    "import sys\n",
    "import mlflow\n",
    "# 🔁 Add your project root to Python path\n",
    "project_root = os.path.abspath(\"..\")  # or \"../ProjectName\" if nested deeper\n",
    "if project_root not in sys.path:\n",
    "    sys.path.insert(0, project_root)\n",
    "# Now you can import modules from the root directory\n",
    "import torch\n",
    "import numpy as np\n",
    "import pandas as pd\n",
    "import matplotlib.pyplot as plt\n",
    "import datetime\n",
    "import plotly.graph_objects as go\n",
    "import plotly.io as pio\n",
    "import glob\n",
    "from src.dataloader import get_dataloaders\n",
    "from src.models.resnet import get_model  # or use build_effnet if swapping\n",
    "from sklearn.metrics import confusion_matrix, ConfusionMatrixDisplay, precision_recall_fscore_support\n",
    "import warnings\n",
    "warnings.filterwarnings(\"ignore\")\n",
    "import os\n",
    "import glob\n",
    "import torch\n",
    "from datetime import datetime\n"
   ]
  },
  {
   "cell_type": "code",
   "execution_count": 2,
   "id": "6b99c2fe",
   "metadata": {},
   "outputs": [],
   "source": [
    "import mlflow\n",
    "\n",
    "client = mlflow.tracking.MlflowClient()\n",
    "runs = client.search_runs(experiment_ids=[\"0\"], order_by=[\"start_time DESC\"])\n",
    "\n",
    "for r in runs:\n",
    "    print(\"Run ID:\", r.info.run_id)\n",
    "    print(\"Tags:\", r.data.tags)\n",
    "    print(\"---\")\n",
    "    if \"resnet18_20250702_155546.pt\" in r.data.tags.get(\"model_file\", \"\"):\n",
    "        print(\"Metrics:\", r.data.metrics)\n",
    "        print(\"Params:\", r.data.params)\n",
    "        break\n"
   ]
  },
  {
   "cell_type": "code",
   "execution_count": 3,
   "id": "d66a2b5a",
   "metadata": {},
   "outputs": [],
   "source": [
    "# import time\n",
    "# start = time.time()\n",
    "# evaluate_model_accuracy(model1, test_loader)\n",
    "# mlflow.log_metric(\"inference_time\", time.time() - start)\n"
   ]
  },
  {
   "cell_type": "code",
   "execution_count": 4,
   "id": "75738225",
   "metadata": {},
   "outputs": [],
   "source": [
    "# with mlflow.start_run():\n",
    "#     start = time.time()\n",
    "#     evaluate_model_accuracy(model1, test_loader)\n",
    "#     duration = time.time() - start\n",
    "#     mlflow.log_metric(\"inference_time\", duration)\n",
    "#     print(f\"✅ Inference time logged: {duration:.2f} seconds\")\n"
   ]
  },
  {
   "cell_type": "markdown",
   "id": "5940ed0e",
   "metadata": {},
   "source": [
    "### Opening *Model1(best), Model2(better)*"
   ]
  },
  {
   "cell_type": "code",
   "execution_count": 5,
   "id": "df1472f3",
   "metadata": {},
   "outputs": [],
   "source": [
    "\n",
    "DEVICE = torch.device(\"cuda\" if torch.cuda.is_available() else \"cpu\")\n"
   ]
  },
  {
   "cell_type": "code",
   "execution_count": 6,
   "id": "04127a61",
   "metadata": {},
   "outputs": [
    {
     "name": "stdout",
     "output_type": "stream",
     "text": [
      "📦 resnet18_20250702_155546.pt — Accuracy: 0.9315 (Saved: 2025-07-02 15:56:47)\n",
      "📦 resnet18_20250702_155758.pt — Accuracy: 0.9178 (Saved: 2025-07-02 16:00:24)\n"
     ]
    }
   ],
   "source": [
    "def evaluate_model_accuracy(model, dataloader, device=\"cpu\"):\n",
    "    model.to(device)\n",
    "    model.eval()\n",
    "    correct, total = 0, 0\n",
    "\n",
    "    with torch.no_grad():\n",
    "        for images, labels in dataloader:\n",
    "            images, labels = images.to(device), labels.to(device)\n",
    "            outputs = model(images)\n",
    "            preds = torch.argmax(outputs, dim=1)\n",
    "            correct += (preds == labels).sum().item()\n",
    "            total += labels.size(0)\n",
    "\n",
    "    return correct / total\n",
    "\n",
    "\n",
    "\n",
    "def auto_evaluate_all_models(model_dir=\"../models\", device=\"cpu\"):\n",
    "    \n",
    "    _, _, test_loader = get_dataloaders()\n",
    "    model_files = sorted(\n",
    "        glob.glob(os.path.join(model_dir, \"*.pt\")),\n",
    "        key=os.path.getctime\n",
    "    )\n",
    "\n",
    "    if not model_files:\n",
    "        print(\"⚠️ No models found in folder.\")\n",
    "        return\n",
    "\n",
    "    for path in model_files:\n",
    "        model = get_model()\n",
    "        model.load_state_dict(torch.load(path, map_location=device))\n",
    "        acc = evaluate_model_accuracy(model, test_loader, device)\n",
    "\n",
    "        timestamp = datetime.fromtimestamp(os.path.getctime(path)).strftime(\"%Y-%m-%d %H:%M:%S\")\n",
    "        print(f\"📦 {os.path.basename(path)} — Accuracy: {acc:.4f} (Saved: {timestamp})\")\n",
    "\n",
    "auto_evaluate_all_models()\n",
    "\n"
   ]
  },
  {
   "cell_type": "code",
   "execution_count": null,
   "id": "26d87973",
   "metadata": {},
   "outputs": [],
   "source": [
    "\n",
    "\n",
    "# Load test data\n",
    "_, _, test_loader = get_dataloaders()\n",
    "\n",
    "# Get sorted list of .pt files in order of creation time (newest last)\n",
    "model_files = sorted(\n",
    "    glob.glob(os.path.join(\"../models\", \"*.pt\")),\n",
    "    key=os.path.getctime\n",
    ")\n",
    "\n",
    "if len(model_files) < 2:\n",
    "    raise ValueError(\"🛑 You need at least two models saved in the folder.\")\n",
    "\n",
    "# Load most recent two models\n",
    "model1_path = model_files[-2]\n",
    "model2_path = model_files[-1]\n",
    "\n",
    "# Create fresh model instances\n",
    "model1 = get_model()\n",
    "model2 = get_model()\n",
    "\n",
    "# Load weights\n",
    "model1.load_state_dict(torch.load(model1_path, map_location=\"cpu\"))\n",
    "model2.load_state_dict(torch.load(model2_path, map_location=\"cpu\"))\n",
    "\n",
    "# Evaluate both models\n",
    "acc1 = evaluate_model_accuracy(model1, test_loader)\n",
    "acc2 = evaluate_model_accuracy(model2, test_loader)\n",
    "\n",
    "print(f\"✅ Model 1 ({os.path.basename(model1_path)}): {acc1:.2%}\")\n",
    "print(f\"✅ Model 2 ({os.path.basename(model2_path)}): {acc2:.2%}\")\n"
   ]
  },
  {
   "cell_type": "markdown",
   "id": "305644e7",
   "metadata": {},
   "source": [
    "### 3."
   ]
  },
  {
   "cell_type": "code",
   "execution_count": null,
   "id": "d9c4bf65",
   "metadata": {},
   "outputs": [],
   "source": [
    "_, _, test_loader = get_dataloaders()\n",
    "correct, total = 0, 0\n",
    "\n",
    "with torch.no_grad():\n",
    "    for x, y in test_loader:\n",
    "        x, y = x.to(DEVICE), y.to(DEVICE)\n",
    "        preds = model1(x)\n",
    "        preds = torch.argmax(preds, dim=1)\n",
    "        correct += (preds == y).sum().item()\n",
    "        total += y.size(0)\n",
    "\n",
    "print(f\"🎯 Test Accuracy: {correct/total:.4f}\")"
   ]
  },
  {
   "cell_type": "markdown",
   "id": "fe7975f6",
   "metadata": {},
   "source": [
    "### Evalution Of **Model1(best)**"
   ]
  },
  {
   "cell_type": "code",
   "execution_count": null,
   "id": "bc2c2737",
   "metadata": {},
   "outputs": [],
   "source": [
    "def generate_and_save_confusion_matrix(model1, dataloader, class_names, save_path=\"../reports/Model1/confusion_matrix.png\"):\n",
    "    model1.eval()\n",
    "    preds, targets = [], []\n",
    "\n",
    "    with torch.no_grad():\n",
    "        for x, y in dataloader:\n",
    "            x = x.to(DEVICE)\n",
    "            outputs = model1(x)\n",
    "            predicted = torch.argmax(outputs, dim=1)\n",
    "\n",
    "            preds.extend(predicted.cpu().tolist())\n",
    "            targets.extend(y.tolist())\n",
    "\n",
    "    cm = confusion_matrix(targets, preds)\n",
    "    disp = ConfusionMatrixDisplay(confusion_matrix=cm, display_labels=class_names)\n",
    "\n",
    "    # Ensure reports directory exists\n",
    "    os.makedirs(os.path.dirname(save_path), exist_ok=True)\n",
    "\n",
    "    # Plot and save the confusion matrix\n",
    "    plt.figure(figsize=(8, 6))\n",
    "    disp.plot(cmap=\"Blues\", xticks_rotation=45, values_format='d')\n",
    "    plt.title(\"📊 Confusion Matrix\")\n",
    "    plt.savefig(save_path)\n",
    "    plt.show()\n",
    "\n",
    "    print(f\"✅ Saved confusion matrix to: {save_path}\")"
   ]
  },
  {
   "cell_type": "code",
   "execution_count": null,
   "id": "0df3d6c1",
   "metadata": {},
   "outputs": [],
   "source": [
    "# 1. Run predictions over test set\n",
    "all_preds, all_labels = [], []\n",
    "class_names = [\n",
    "    \"Bear\", \"Bird\", \"Cat\", \"Cow\", \"Deer\", \"Dog\", \"Dolphin\",\n",
    "    \"Elephant\", \"Giraffe\", \"Horse\", \"Kangaroo\", \"Lion\", \"Panda\",\n",
    "    \"Tiger\", \"Zebra\"\n",
    "]\n",
    "model1.eval()\n",
    "with torch.no_grad():\n",
    "    for x, y in test_loader:\n",
    "        x, y = x.to(DEVICE), y.to(DEVICE)\n",
    "        out = model1(x)\n",
    "        preds = torch.argmax(out, dim=1)\n",
    "        all_preds.extend(preds.cpu().tolist())\n",
    "        all_labels.extend(y.cpu().tolist())\n",
    "\n",
    "# 2. Compute metrics\n",
    "precision, recall, f1, support = precision_recall_fscore_support(\n",
    "    all_labels, all_preds, labels=range(len(class_names)), zero_division=0\n",
    ")\n",
    "\n",
    "# 3. Build dataframe\n",
    "results_df = pd.DataFrame({\n",
    "    \"Class\": class_names,\n",
    "    \"Images\": support,\n",
    "    \"Precision\": np.round(precision, 4),\n",
    "    \"Recall\": np.round(recall, 4),\n",
    "    \"F1-Score\": np.round(f1, 4)\n",
    "})\n",
    "\n",
    "# 4. Display it\n",
    "print(\"📊 Per-Class Evaluation Metrics\")\n",
    "display(results_df)\n",
    "\n",
    "# 5. Save to CSV\n",
    "results_df.to_csv(\"../reports/Model1/per_class_metrics.csv\", index=False)\n"
   ]
  },
  {
   "cell_type": "markdown",
   "id": "e6d9dce6",
   "metadata": {},
   "source": [
    "##"
   ]
  },
  {
   "cell_type": "code",
   "execution_count": null,
   "id": "b4e56452",
   "metadata": {},
   "outputs": [],
   "source": [
    "model1.load_state_dict(torch.load(model1_path))\n",
    "model1.to(DEVICE)\n",
    "_, _, test_loader = get_dataloaders()\n",
    "\n",
    "class_names = [\n",
    "    \"Bear\", \"Bird\", \"Cat\", \"Cow\", \"Deer\", \"Dog\", \"Dolphin\",\n",
    "    \"Elephant\", \"Giraffe\", \"Horse\", \"Kangaroo\", \"Lion\", \"Panda\",\n",
    "    \"Tiger\", \"Zebra\"\n",
    "]\n",
    "\n",
    "generate_and_save_confusion_matrix(model1, test_loader, class_names)"
   ]
  },
  {
   "cell_type": "markdown",
   "id": "d29ab18c",
   "metadata": {},
   "source": [
    "Soothing animation graph"
   ]
  },
  {
   "cell_type": "code",
   "execution_count": 30,
   "id": "cfcdb486",
   "metadata": {},
   "outputs": [],
   "source": [
    "import plotly.io as pio\n",
    "\n",
    "pio.templates[\"custom_mint\"] = go.layout.Template(\n",
    "    layout=dict(\n",
    "        font=dict(family=\"Segoe UI\", size=13, color=\"#333\"),\n",
    "        paper_bgcolor=\"white\",\n",
    "        plot_bgcolor=\"white\",\n",
    "        colorway=[\"#6A5ACD\", \"#2E8B8B\", \"#FF6B6B\", \"#E8C547\", \"#3CB371\"]\n",
    "    )\n",
    ")\n",
    "\n",
    "pio.templates.default = \"custom_mint\""
   ]
  },
  {
   "cell_type": "code",
   "execution_count": null,
   "id": "7237ab71",
   "metadata": {},
   "outputs": [
    {
     "ename": "AttributeError",
     "evalue": "type object 'datetime.datetime' has no attribute 'datetime'",
     "output_type": "error",
     "traceback": [
      "\u001b[1;31m---------------------------------------------------------------------------\u001b[0m",
      "\u001b[1;31mAttributeError\u001b[0m                            Traceback (most recent call last)",
      "Cell \u001b[1;32mIn[33], line 28\u001b[0m\n\u001b[0;32m     26\u001b[0m     \u001b[38;5;28;01mexcept\u001b[39;00m \u001b[38;5;167;01mException\u001b[39;00m \u001b[38;5;28;01mas\u001b[39;00m e:\n\u001b[0;32m     27\u001b[0m         \u001b[38;5;28mprint\u001b[39m(\u001b[38;5;124mf\u001b[39m\u001b[38;5;124m\"\u001b[39m\u001b[38;5;124m⚠️ Could not save accuracy plot: \u001b[39m\u001b[38;5;132;01m{\u001b[39;00me\u001b[38;5;132;01m}\u001b[39;00m\u001b[38;5;124m\"\u001b[39m)\n\u001b[1;32m---> 28\u001b[0m \u001b[43mplot_accuracy_plotly\u001b[49m\u001b[43m(\u001b[49m\u001b[43mtrain_acc\u001b[49m\u001b[43m,\u001b[49m\u001b[43m \u001b[49m\u001b[43mval_acc\u001b[49m\u001b[43m)\u001b[49m\n",
      "Cell \u001b[1;32mIn[33], line 5\u001b[0m, in \u001b[0;36mplot_accuracy_plotly\u001b[1;34m(train_acc, val_acc, save_dir, filename_prefix)\u001b[0m\n\u001b[0;32m      3\u001b[0m \u001b[38;5;28;01mdef\u001b[39;00m \u001b[38;5;21mplot_accuracy_plotly\u001b[39m(train_acc, val_acc, save_dir\u001b[38;5;241m=\u001b[39m\u001b[38;5;124m\"\u001b[39m\u001b[38;5;124m../reports/Model1\u001b[39m\u001b[38;5;124m\"\u001b[39m, filename_prefix\u001b[38;5;241m=\u001b[39m\u001b[38;5;124m\"\u001b[39m\u001b[38;5;124mplotly_accuracy\u001b[39m\u001b[38;5;124m\"\u001b[39m):\n\u001b[0;32m      4\u001b[0m     os\u001b[38;5;241m.\u001b[39mmakedirs(save_dir, exist_ok\u001b[38;5;241m=\u001b[39m\u001b[38;5;28;01mTrue\u001b[39;00m)\n\u001b[1;32m----> 5\u001b[0m     timestamp \u001b[38;5;241m=\u001b[39m \u001b[43mdatetime\u001b[49m\u001b[38;5;241;43m.\u001b[39;49m\u001b[43mdatetime\u001b[49m\u001b[38;5;241m.\u001b[39mnow()\u001b[38;5;241m.\u001b[39mstrftime(\u001b[38;5;124m\"\u001b[39m\u001b[38;5;124m%\u001b[39m\u001b[38;5;124mY\u001b[39m\u001b[38;5;124m%\u001b[39m\u001b[38;5;124mm\u001b[39m\u001b[38;5;132;01m%d\u001b[39;00m\u001b[38;5;124m_\u001b[39m\u001b[38;5;124m%\u001b[39m\u001b[38;5;124mH\u001b[39m\u001b[38;5;124m%\u001b[39m\u001b[38;5;124mM\u001b[39m\u001b[38;5;124m%\u001b[39m\u001b[38;5;124mS\u001b[39m\u001b[38;5;124m\"\u001b[39m)\n\u001b[0;32m      6\u001b[0m     save_path \u001b[38;5;241m=\u001b[39m os\u001b[38;5;241m.\u001b[39mpath\u001b[38;5;241m.\u001b[39mjoin(save_dir, \u001b[38;5;124mf\u001b[39m\u001b[38;5;124m\"\u001b[39m\u001b[38;5;132;01m{\u001b[39;00mfilename_prefix\u001b[38;5;132;01m}\u001b[39;00m\u001b[38;5;124m_\u001b[39m\u001b[38;5;132;01m{\u001b[39;00mtimestamp\u001b[38;5;132;01m}\u001b[39;00m\u001b[38;5;124m.png\u001b[39m\u001b[38;5;124m\"\u001b[39m)\n\u001b[0;32m      8\u001b[0m     epochs \u001b[38;5;241m=\u001b[39m \u001b[38;5;28mlist\u001b[39m(\u001b[38;5;28mrange\u001b[39m(\u001b[38;5;241m1\u001b[39m, \u001b[38;5;28mlen\u001b[39m(train_acc) \u001b[38;5;241m+\u001b[39m \u001b[38;5;241m1\u001b[39m))\n",
      "\u001b[1;31mAttributeError\u001b[0m: type object 'datetime.datetime' has no attribute 'datetime'"
     ]
    }
   ],
   "source": [
    "# Function to plot accuracy using Plotly\n",
    "\n",
    "def plot_accuracy_plotly(train_acc, val_acc, save_dir=\"../reports/Model1\", filename_prefix=\"plotly_accuracy\"):\n",
    "    os.makedirs(save_dir, exist_ok=True)\n",
    "    timestamp = datetime.datetime.now().strftime(\"%Y%m%d_%H%M%S\")\n",
    "    save_path = os.path.join(save_dir, f\"{filename_prefix}_{timestamp}.png\")\n",
    "\n",
    "    epochs = list(range(1, len(train_acc) + 1))\n",
    "    fig = go.Figure()\n",
    "    fig.add_trace(go.Scatter(x=epochs, y=train_acc, mode='lines+markers', name='Train Accuracy'))\n",
    "    fig.add_trace(go.Scatter(x=epochs, y=val_acc, mode='lines+markers', name='Validation Accuracy'))\n",
    "    fig.update_layout(\n",
    "        title=\"📈 Accuracy per Epoch\",\n",
    "        xaxis_title=\"Epoch\",\n",
    "        yaxis_title=\"Accuracy\",\n",
    "        template=\"plotly_white\",\n",
    "    )\n",
    "\n",
    "    fig.show()\n",
    "\n",
    "    try:\n",
    "        img_bytes = fig.to_image(format=\"png\", scale=3)\n",
    "        with open(save_path, \"wb\") as f:\n",
    "            f.write(img_bytes)\n",
    "        print(f\"✅ Accuracy plot saved to: {save_path}\")\n",
    "    except Exception as e:\n",
    "        print(f\"⚠️ Could not save accuracy plot: {e}\")\n",
    "plot_accuracy_plotly(train_acc, val_acc)\n"
   ]
  },
  {
   "cell_type": "code",
   "execution_count": 32,
   "id": "ebe60c2d",
   "metadata": {},
   "outputs": [
    {
     "data": {
      "application/vnd.plotly.v1+json": {
       "config": {
        "plotlyServerURL": "https://plot.ly"
       },
       "data": [
        {
         "alignmentgroup": "True",
         "hovertemplate": "variable=Precision<br>Class=%{x}<br>value=%{y}<extra></extra>",
         "legendgroup": "Precision",
         "marker": {
          "color": "#6A5ACD",
          "pattern": {
           "shape": ""
          }
         },
         "name": "Precision",
         "offsetgroup": "Precision",
         "orientation": "v",
         "showlegend": true,
         "textposition": "auto",
         "type": "bar",
         "x": [
          "Bear",
          "Bird",
          "Cat",
          "Cow",
          "Deer",
          "Dog",
          "Dolphin",
          "Elephant",
          "Giraffe",
          "Horse",
          "Kangaroo",
          "Lion",
          "Panda",
          "Tiger",
          "Zebra"
         ],
         "xaxis": "x",
         "y": {
          "bdata": "AAAAAAAA8D+e76fGSzftPwAAAAAAAPA/HThnRGlv6j+IhVrTvOPoPwAAAAAAAPA/ZmZmZmZm7j8ydy0hH/TsP3BfB84ZUe4//mX35GGh7D/NzMzMzMzsP83MzMzMzOw/AAAAAAAA8D8AAAAAAADwPwAAAAAAAPA/",
          "dtype": "f8"
         },
         "yaxis": "y"
        },
        {
         "alignmentgroup": "True",
         "hovertemplate": "variable=Recall<br>Class=%{x}<br>value=%{y}<extra></extra>",
         "legendgroup": "Recall",
         "marker": {
          "color": "#2E8B8B",
          "pattern": {
           "shape": ""
          }
         },
         "name": "Recall",
         "offsetgroup": "Recall",
         "orientation": "v",
         "showlegend": true,
         "textposition": "auto",
         "type": "bar",
         "x": [
          "Bear",
          "Bird",
          "Cat",
          "Cow",
          "Deer",
          "Dog",
          "Dolphin",
          "Elephant",
          "Giraffe",
          "Horse",
          "Kangaroo",
          "Lion",
          "Panda",
          "Tiger",
          "Zebra"
         ],
         "xaxis": "x",
         "y": {
          "bdata": "xEKtad5x7D8AAAAAAADwP/H0SlmGOO4/ZmZmZmZm7j9rK/aX3ZPnP23F/rJ78uo/AAAAAAAA8D9mZmZmZmbuP83MzMzMzOw/MzMzMzMz6z9wXwfOGVHuP3BfB84ZUe4/AAAAAAAA8D8AAAAAAADwPwAAAAAAAPA/",
          "dtype": "f8"
         },
         "yaxis": "y"
        },
        {
         "alignmentgroup": "True",
         "hovertemplate": "variable=F1-Score<br>Class=%{x}<br>value=%{y}<extra></extra>",
         "legendgroup": "F1-Score",
         "marker": {
          "color": "#FF6B6B",
          "pattern": {
           "shape": ""
          }
         },
         "name": "F1-Score",
         "offsetgroup": "F1-Score",
         "orientation": "v",
         "showlegend": true,
         "textposition": "auto",
         "type": "bar",
         "x": [
          "Bear",
          "Bird",
          "Cat",
          "Cow",
          "Deer",
          "Dog",
          "Dolphin",
          "Elephant",
          "Giraffe",
          "Horse",
          "Kangaroo",
          "Lion",
          "Panda",
          "Tiger",
          "Zebra"
         ],
         "xaxis": "x",
         "y": {
          "bdata": "rthfdk8e7j8lBoGVQ4vuP2iz6nO1Fe8/1zTvOEVH7D8PnDOitDfoPxlz1xLyQe0/5x2n6Egu7z9/2T15WKjtP9IA3gIJiu0/veMUHcnl6z/SAN4CCYrtP9IA3gIJiu0/AAAAAAAA8D8AAAAAAADwPwAAAAAAAPA/",
          "dtype": "f8"
         },
         "yaxis": "y"
        }
       ],
       "layout": {
        "barmode": "group",
        "legend": {
         "title": {
          "text": "variable"
         },
         "tracegroupgap": 0
        },
        "template": {
         "data": {
          "bar": [
           {
            "error_x": {
             "color": "#2a3f5f"
            },
            "error_y": {
             "color": "#2a3f5f"
            },
            "marker": {
             "line": {
              "color": "white",
              "width": 0.5
             },
             "pattern": {
              "fillmode": "overlay",
              "size": 10,
              "solidity": 0.2
             }
            },
            "type": "bar"
           }
          ],
          "barpolar": [
           {
            "marker": {
             "line": {
              "color": "white",
              "width": 0.5
             },
             "pattern": {
              "fillmode": "overlay",
              "size": 10,
              "solidity": 0.2
             }
            },
            "type": "barpolar"
           }
          ],
          "carpet": [
           {
            "aaxis": {
             "endlinecolor": "#2a3f5f",
             "gridcolor": "#C8D4E3",
             "linecolor": "#C8D4E3",
             "minorgridcolor": "#C8D4E3",
             "startlinecolor": "#2a3f5f"
            },
            "baxis": {
             "endlinecolor": "#2a3f5f",
             "gridcolor": "#C8D4E3",
             "linecolor": "#C8D4E3",
             "minorgridcolor": "#C8D4E3",
             "startlinecolor": "#2a3f5f"
            },
            "type": "carpet"
           }
          ],
          "choropleth": [
           {
            "colorbar": {
             "outlinewidth": 0,
             "ticks": ""
            },
            "type": "choropleth"
           }
          ],
          "contour": [
           {
            "colorbar": {
             "outlinewidth": 0,
             "ticks": ""
            },
            "colorscale": [
             [
              0,
              "#0d0887"
             ],
             [
              0.1111111111111111,
              "#46039f"
             ],
             [
              0.2222222222222222,
              "#7201a8"
             ],
             [
              0.3333333333333333,
              "#9c179e"
             ],
             [
              0.4444444444444444,
              "#bd3786"
             ],
             [
              0.5555555555555556,
              "#d8576b"
             ],
             [
              0.6666666666666666,
              "#ed7953"
             ],
             [
              0.7777777777777778,
              "#fb9f3a"
             ],
             [
              0.8888888888888888,
              "#fdca26"
             ],
             [
              1,
              "#f0f921"
             ]
            ],
            "type": "contour"
           }
          ],
          "contourcarpet": [
           {
            "colorbar": {
             "outlinewidth": 0,
             "ticks": ""
            },
            "type": "contourcarpet"
           }
          ],
          "heatmap": [
           {
            "colorbar": {
             "outlinewidth": 0,
             "ticks": ""
            },
            "colorscale": [
             [
              0,
              "#0d0887"
             ],
             [
              0.1111111111111111,
              "#46039f"
             ],
             [
              0.2222222222222222,
              "#7201a8"
             ],
             [
              0.3333333333333333,
              "#9c179e"
             ],
             [
              0.4444444444444444,
              "#bd3786"
             ],
             [
              0.5555555555555556,
              "#d8576b"
             ],
             [
              0.6666666666666666,
              "#ed7953"
             ],
             [
              0.7777777777777778,
              "#fb9f3a"
             ],
             [
              0.8888888888888888,
              "#fdca26"
             ],
             [
              1,
              "#f0f921"
             ]
            ],
            "type": "heatmap"
           }
          ],
          "histogram": [
           {
            "marker": {
             "pattern": {
              "fillmode": "overlay",
              "size": 10,
              "solidity": 0.2
             }
            },
            "type": "histogram"
           }
          ],
          "histogram2d": [
           {
            "colorbar": {
             "outlinewidth": 0,
             "ticks": ""
            },
            "colorscale": [
             [
              0,
              "#0d0887"
             ],
             [
              0.1111111111111111,
              "#46039f"
             ],
             [
              0.2222222222222222,
              "#7201a8"
             ],
             [
              0.3333333333333333,
              "#9c179e"
             ],
             [
              0.4444444444444444,
              "#bd3786"
             ],
             [
              0.5555555555555556,
              "#d8576b"
             ],
             [
              0.6666666666666666,
              "#ed7953"
             ],
             [
              0.7777777777777778,
              "#fb9f3a"
             ],
             [
              0.8888888888888888,
              "#fdca26"
             ],
             [
              1,
              "#f0f921"
             ]
            ],
            "type": "histogram2d"
           }
          ],
          "histogram2dcontour": [
           {
            "colorbar": {
             "outlinewidth": 0,
             "ticks": ""
            },
            "colorscale": [
             [
              0,
              "#0d0887"
             ],
             [
              0.1111111111111111,
              "#46039f"
             ],
             [
              0.2222222222222222,
              "#7201a8"
             ],
             [
              0.3333333333333333,
              "#9c179e"
             ],
             [
              0.4444444444444444,
              "#bd3786"
             ],
             [
              0.5555555555555556,
              "#d8576b"
             ],
             [
              0.6666666666666666,
              "#ed7953"
             ],
             [
              0.7777777777777778,
              "#fb9f3a"
             ],
             [
              0.8888888888888888,
              "#fdca26"
             ],
             [
              1,
              "#f0f921"
             ]
            ],
            "type": "histogram2dcontour"
           }
          ],
          "mesh3d": [
           {
            "colorbar": {
             "outlinewidth": 0,
             "ticks": ""
            },
            "type": "mesh3d"
           }
          ],
          "parcoords": [
           {
            "line": {
             "colorbar": {
              "outlinewidth": 0,
              "ticks": ""
             }
            },
            "type": "parcoords"
           }
          ],
          "pie": [
           {
            "automargin": true,
            "type": "pie"
           }
          ],
          "scatter": [
           {
            "fillpattern": {
             "fillmode": "overlay",
             "size": 10,
             "solidity": 0.2
            },
            "type": "scatter"
           }
          ],
          "scatter3d": [
           {
            "line": {
             "colorbar": {
              "outlinewidth": 0,
              "ticks": ""
             }
            },
            "marker": {
             "colorbar": {
              "outlinewidth": 0,
              "ticks": ""
             }
            },
            "type": "scatter3d"
           }
          ],
          "scattercarpet": [
           {
            "marker": {
             "colorbar": {
              "outlinewidth": 0,
              "ticks": ""
             }
            },
            "type": "scattercarpet"
           }
          ],
          "scattergeo": [
           {
            "marker": {
             "colorbar": {
              "outlinewidth": 0,
              "ticks": ""
             }
            },
            "type": "scattergeo"
           }
          ],
          "scattergl": [
           {
            "marker": {
             "colorbar": {
              "outlinewidth": 0,
              "ticks": ""
             }
            },
            "type": "scattergl"
           }
          ],
          "scattermap": [
           {
            "marker": {
             "colorbar": {
              "outlinewidth": 0,
              "ticks": ""
             }
            },
            "type": "scattermap"
           }
          ],
          "scattermapbox": [
           {
            "marker": {
             "colorbar": {
              "outlinewidth": 0,
              "ticks": ""
             }
            },
            "type": "scattermapbox"
           }
          ],
          "scatterpolar": [
           {
            "marker": {
             "colorbar": {
              "outlinewidth": 0,
              "ticks": ""
             }
            },
            "type": "scatterpolar"
           }
          ],
          "scatterpolargl": [
           {
            "marker": {
             "colorbar": {
              "outlinewidth": 0,
              "ticks": ""
             }
            },
            "type": "scatterpolargl"
           }
          ],
          "scatterternary": [
           {
            "marker": {
             "colorbar": {
              "outlinewidth": 0,
              "ticks": ""
             }
            },
            "type": "scatterternary"
           }
          ],
          "surface": [
           {
            "colorbar": {
             "outlinewidth": 0,
             "ticks": ""
            },
            "colorscale": [
             [
              0,
              "#0d0887"
             ],
             [
              0.1111111111111111,
              "#46039f"
             ],
             [
              0.2222222222222222,
              "#7201a8"
             ],
             [
              0.3333333333333333,
              "#9c179e"
             ],
             [
              0.4444444444444444,
              "#bd3786"
             ],
             [
              0.5555555555555556,
              "#d8576b"
             ],
             [
              0.6666666666666666,
              "#ed7953"
             ],
             [
              0.7777777777777778,
              "#fb9f3a"
             ],
             [
              0.8888888888888888,
              "#fdca26"
             ],
             [
              1,
              "#f0f921"
             ]
            ],
            "type": "surface"
           }
          ],
          "table": [
           {
            "cells": {
             "fill": {
              "color": "#EBF0F8"
             },
             "line": {
              "color": "white"
             }
            },
            "header": {
             "fill": {
              "color": "#C8D4E3"
             },
             "line": {
              "color": "white"
             }
            },
            "type": "table"
           }
          ]
         },
         "layout": {
          "annotationdefaults": {
           "arrowcolor": "#2a3f5f",
           "arrowhead": 0,
           "arrowwidth": 1
          },
          "autotypenumbers": "strict",
          "coloraxis": {
           "colorbar": {
            "outlinewidth": 0,
            "ticks": ""
           }
          },
          "colorscale": {
           "diverging": [
            [
             0,
             "#8e0152"
            ],
            [
             0.1,
             "#c51b7d"
            ],
            [
             0.2,
             "#de77ae"
            ],
            [
             0.3,
             "#f1b6da"
            ],
            [
             0.4,
             "#fde0ef"
            ],
            [
             0.5,
             "#f7f7f7"
            ],
            [
             0.6,
             "#e6f5d0"
            ],
            [
             0.7,
             "#b8e186"
            ],
            [
             0.8,
             "#7fbc41"
            ],
            [
             0.9,
             "#4d9221"
            ],
            [
             1,
             "#276419"
            ]
           ],
           "sequential": [
            [
             0,
             "#0d0887"
            ],
            [
             0.1111111111111111,
             "#46039f"
            ],
            [
             0.2222222222222222,
             "#7201a8"
            ],
            [
             0.3333333333333333,
             "#9c179e"
            ],
            [
             0.4444444444444444,
             "#bd3786"
            ],
            [
             0.5555555555555556,
             "#d8576b"
            ],
            [
             0.6666666666666666,
             "#ed7953"
            ],
            [
             0.7777777777777778,
             "#fb9f3a"
            ],
            [
             0.8888888888888888,
             "#fdca26"
            ],
            [
             1,
             "#f0f921"
            ]
           ],
           "sequentialminus": [
            [
             0,
             "#0d0887"
            ],
            [
             0.1111111111111111,
             "#46039f"
            ],
            [
             0.2222222222222222,
             "#7201a8"
            ],
            [
             0.3333333333333333,
             "#9c179e"
            ],
            [
             0.4444444444444444,
             "#bd3786"
            ],
            [
             0.5555555555555556,
             "#d8576b"
            ],
            [
             0.6666666666666666,
             "#ed7953"
            ],
            [
             0.7777777777777778,
             "#fb9f3a"
            ],
            [
             0.8888888888888888,
             "#fdca26"
            ],
            [
             1,
             "#f0f921"
            ]
           ]
          },
          "colorway": [
           "#636efa",
           "#EF553B",
           "#00cc96",
           "#ab63fa",
           "#FFA15A",
           "#19d3f3",
           "#FF6692",
           "#B6E880",
           "#FF97FF",
           "#FECB52"
          ],
          "font": {
           "color": "#2a3f5f"
          },
          "geo": {
           "bgcolor": "white",
           "lakecolor": "white",
           "landcolor": "white",
           "showlakes": true,
           "showland": true,
           "subunitcolor": "#C8D4E3"
          },
          "hoverlabel": {
           "align": "left"
          },
          "hovermode": "closest",
          "mapbox": {
           "style": "light"
          },
          "paper_bgcolor": "white",
          "plot_bgcolor": "white",
          "polar": {
           "angularaxis": {
            "gridcolor": "#EBF0F8",
            "linecolor": "#EBF0F8",
            "ticks": ""
           },
           "bgcolor": "white",
           "radialaxis": {
            "gridcolor": "#EBF0F8",
            "linecolor": "#EBF0F8",
            "ticks": ""
           }
          },
          "scene": {
           "xaxis": {
            "backgroundcolor": "white",
            "gridcolor": "#DFE8F3",
            "gridwidth": 2,
            "linecolor": "#EBF0F8",
            "showbackground": true,
            "ticks": "",
            "zerolinecolor": "#EBF0F8"
           },
           "yaxis": {
            "backgroundcolor": "white",
            "gridcolor": "#DFE8F3",
            "gridwidth": 2,
            "linecolor": "#EBF0F8",
            "showbackground": true,
            "ticks": "",
            "zerolinecolor": "#EBF0F8"
           },
           "zaxis": {
            "backgroundcolor": "white",
            "gridcolor": "#DFE8F3",
            "gridwidth": 2,
            "linecolor": "#EBF0F8",
            "showbackground": true,
            "ticks": "",
            "zerolinecolor": "#EBF0F8"
           }
          },
          "shapedefaults": {
           "line": {
            "color": "#2a3f5f"
           }
          },
          "ternary": {
           "aaxis": {
            "gridcolor": "#DFE8F3",
            "linecolor": "#A2B1C6",
            "ticks": ""
           },
           "baxis": {
            "gridcolor": "#DFE8F3",
            "linecolor": "#A2B1C6",
            "ticks": ""
           },
           "bgcolor": "white",
           "caxis": {
            "gridcolor": "#DFE8F3",
            "linecolor": "#A2B1C6",
            "ticks": ""
           }
          },
          "title": {
           "x": 0.05
          },
          "xaxis": {
           "automargin": true,
           "gridcolor": "#EBF0F8",
           "linecolor": "#EBF0F8",
           "ticks": "",
           "title": {
            "standoff": 15
           },
           "zerolinecolor": "#EBF0F8",
           "zerolinewidth": 2
          },
          "yaxis": {
           "automargin": true,
           "gridcolor": "#EBF0F8",
           "linecolor": "#EBF0F8",
           "ticks": "",
           "title": {
            "standoff": 15
           },
           "zerolinecolor": "#EBF0F8",
           "zerolinewidth": 2
          }
         }
        },
        "title": {
         "text": "🔍 Per-Class Evaluation Metrics"
        },
        "xaxis": {
         "anchor": "y",
         "domain": [
          0,
          1
         ],
         "title": {
          "text": "Class"
         }
        },
        "yaxis": {
         "anchor": "x",
         "domain": [
          0,
          1
         ],
         "title": {
          "text": "Score"
         }
        }
       }
      }
     },
     "metadata": {},
     "output_type": "display_data"
    },
    {
     "name": "stdout",
     "output_type": "stream",
     "text": [
      "⚠️ Could not save classwise metrics plot: \n",
      "\n",
      "Kaleido requires Google Chrome to be installed.\n",
      "\n",
      "Either download and install Chrome yourself following Google's instructions for your operating system,\n",
      "or install it from your terminal by running:\n",
      "\n",
      "    $ plotly_get_chrome\n",
      "\n",
      "\n"
     ]
    }
   ],
   "source": [
    "# Function to plot classwise metrics using Plotly\n",
    "import plotly.express as px\n",
    "\n",
    "def plot_classwise_metrics(df, save_dir=\"../reports/Model1\", filename_prefix=\"plotly_classwise_metrics\"):\n",
    "    import os, datetime\n",
    "    os.makedirs(save_dir, exist_ok=True)\n",
    "    timestamp = datetime.datetime.now().strftime(\"%Y%m%d_%H%M%S\")\n",
    "    save_path = os.path.join(save_dir, f\"{filename_prefix}_{timestamp}.png\")\n",
    "\n",
    "    fig = px.bar(\n",
    "        df.melt(id_vars=\"Class\", value_vars=[\"Precision\", \"Recall\", \"F1-Score\"]),\n",
    "        x=\"Class\", y=\"value\", color=\"variable\", barmode=\"group\",\n",
    "        title=\"🔍 Per-Class Evaluation Metrics\",\n",
    "    )\n",
    "    fig.update_layout(yaxis_title=\"Score\", template=\"plotly_white\")\n",
    "    fig.show()\n",
    "\n",
    "    try:\n",
    "        img_bytes = fig.to_image(format=\"png\", scale=3)\n",
    "        with open(save_path, \"wb\") as f:\n",
    "            f.write(img_bytes)\n",
    "        print(f\"✅ Classwise metrics plot saved to: {save_path}\")\n",
    "    except Exception as e:\n",
    "        print(f\"⚠️ Could not save classwise metrics plot: {e}\")\n",
    "\n",
    "plot_classwise_metrics(results_df)\n"
   ]
  },
  {
   "cell_type": "markdown",
   "id": "1287249c",
   "metadata": {},
   "source": [
    "### 5 Plot matrix ML flow"
   ]
  },
  {
   "cell_type": "code",
   "execution_count": 38,
   "id": "e6f19392",
   "metadata": {},
   "outputs": [],
   "source": [
    "import mlflow\n",
    "mlflow.set_tracking_uri(\"file:../mlruns/\")\n",
    "\n",
    "\n",
    "\n"
   ]
  },
  {
   "cell_type": "code",
   "execution_count": 36,
   "id": "1607f582",
   "metadata": {},
   "outputs": [],
   "source": [
    "def plot_accuracy(train_acc, val_acc, save_path=\"../reports/Model1/final_accuracy_plot.png\"):\n",
    "    epochs = list(range(1, len(train_acc) + 1))\n",
    "\n",
    "    plt.figure(figsize=(8, 5))\n",
    "    plt.plot(epochs, train_acc, label='Train Accuracy', marker='o', color='seagreen')\n",
    "    plt.plot(epochs, val_acc, label='Validation Accuracy', marker='s', color='darkred')\n",
    "\n",
    "    plt.title(\"📈 Accuracy per Epoch\")\n",
    "    plt.xlabel(\"Epoch\")\n",
    "    plt.ylabel(\"Accuracy\")\n",
    "    plt.xticks(epochs)\n",
    "    plt.legend()\n",
    "    plt.grid(True)\n",
    "    plt.tight_layout()\n",
    " \n",
    "    os.makedirs(os.path.dirname(save_path), exist_ok=True)\n",
    "    # plt.savefig(save_path)\n",
    "    plt.show()\n",
    "    # print(f\"✅ Accuracy plot saved to: {save_path}\")\n"
   ]
  },
  {
   "cell_type": "code",
   "execution_count": 37,
   "id": "42d6d055",
   "metadata": {},
   "outputs": [
    {
     "ename": "AttributeError",
     "evalue": "'NoneType' object has no attribute 'experiment_id'",
     "output_type": "error",
     "traceback": [
      "\u001b[1;31m---------------------------------------------------------------------------\u001b[0m",
      "\u001b[1;31mAttributeError\u001b[0m                            Traceback (most recent call last)",
      "Cell \u001b[1;32mIn[37], line 6\u001b[0m\n\u001b[0;32m      3\u001b[0m experiment \u001b[38;5;241m=\u001b[39m client\u001b[38;5;241m.\u001b[39mget_experiment_by_name(\u001b[38;5;124m\"\u001b[39m\u001b[38;5;124manimal_classifier_v2\u001b[39m\u001b[38;5;124m\"\u001b[39m)\n\u001b[0;32m      4\u001b[0m \u001b[38;5;66;03m# run = sorted(client.search_runs(experiment.experiment_id), key=lambda r: r.start_time)[-1]\u001b[39;00m\n\u001b[0;32m      5\u001b[0m run \u001b[38;5;241m=\u001b[39m \u001b[38;5;28msorted\u001b[39m(\n\u001b[1;32m----> 6\u001b[0m     client\u001b[38;5;241m.\u001b[39msearch_runs([\u001b[43mexperiment\u001b[49m\u001b[38;5;241;43m.\u001b[39;49m\u001b[43mexperiment_id\u001b[49m]),\n\u001b[0;32m      7\u001b[0m     key\u001b[38;5;241m=\u001b[39m\u001b[38;5;28;01mlambda\u001b[39;00m r: r\u001b[38;5;241m.\u001b[39minfo\u001b[38;5;241m.\u001b[39mstart_time\n\u001b[0;32m      8\u001b[0m )[\u001b[38;5;241m-\u001b[39m\u001b[38;5;241m1\u001b[39m]\n\u001b[0;32m     10\u001b[0m run_id \u001b[38;5;241m=\u001b[39m run\u001b[38;5;241m.\u001b[39minfo\u001b[38;5;241m.\u001b[39mrun_id\n\u001b[0;32m     12\u001b[0m train_acc \u001b[38;5;241m=\u001b[39m [m\u001b[38;5;241m.\u001b[39mvalue \u001b[38;5;28;01mfor\u001b[39;00m m \u001b[38;5;129;01min\u001b[39;00m client\u001b[38;5;241m.\u001b[39mget_metric_history(run_id, \u001b[38;5;124m\"\u001b[39m\u001b[38;5;124mtrain_acc\u001b[39m\u001b[38;5;124m\"\u001b[39m)]\n",
      "\u001b[1;31mAttributeError\u001b[0m: 'NoneType' object has no attribute 'experiment_id'"
     ]
    }
   ],
   "source": [
    "from mlflow.tracking import MlflowClient\n",
    "client = MlflowClient()\n",
    "experiment = client.get_experiment_by_name(\"animal_classifier_v2\")\n",
    "# run = sorted(client.search_runs(experiment.experiment_id), key=lambda r: r.start_time)[-1]\n",
    "run = sorted(\n",
    "    client.search_runs([experiment.experiment_id]),\n",
    "    key=lambda r: r.info.start_time\n",
    ")[-1]\n",
    "\n",
    "run_id = run.info.run_id\n",
    "\n",
    "train_acc = [m.value for m in client.get_metric_history(run_id, \"train_acc\")]\n",
    "val_acc = [m.value for m in client.get_metric_history(run_id, \"val_acc\")]\n",
    "\n",
    "plot_accuracy(train_acc, val_acc)"
   ]
  },
  {
   "cell_type": "markdown",
   "id": "2ea66857",
   "metadata": {},
   "source": [
    "### 6. Visualize predictions"
   ]
  },
  {
   "cell_type": "code",
   "execution_count": null,
   "id": "dc880e71",
   "metadata": {},
   "outputs": [],
   "source": [
    "class_names = [\n",
    "    \"Bear\", \"Bird\", \"Cat\", \"Cow\", \"Deer\", \"Dog\", \"Dolphin\",\n",
    "    \"Elephant\", \"Giraffe\", \"Horse\", \"Kangaroo\", \"Lion\", \"Panda\",\n",
    "    \"Tiger\", \"Zebra\"\n",
    "]\n",
    "\n",
    "def show_predictions(model1, dataloader, num_images=8):\n",
    "    model1.eval()\n",
    "    images_shown = 0\n",
    "    plt.figure(figsize=(15, 6))\n",
    "    with torch.no_grad():\n",
    "        for images, labels in dataloader:\n",
    "            images, labels = images.to(DEVICE), labels.to(DEVICE)\n",
    "            outputs = model1(images)\n",
    "            preds = torch.argmax(outputs, dim=1)\n",
    "\n",
    "            for i in range(images.size(0)):\n",
    "                if images_shown >= num_images:\n",
    "                    break\n",
    "                image_np = images[i].cpu().permute(1, 2, 0).numpy()\n",
    "                image_np = (image_np - image_np.min()) / (image_np.max() - image_np.min())  # normalize\n",
    "\n",
    "                plt.subplot(2, int(np.ceil(num_images / 2)), images_shown + 1)\n",
    "                plt.imshow(image_np)\n",
    "                plt.title(f\"✅ True: {class_names[labels[i]]}\\n🔮 Pred: {class_names[preds[i]]}\",\n",
    "                          fontsize=9, color=\"green\" if preds[i] == labels[i] else \"red\")\n",
    "                plt.axis(\"off\")\n",
    "                images_shown += 1\n",
    "            if images_shown >= num_images:\n",
    "                break\n",
    "    plt.tight_layout()\n",
    "    plt.show()"
   ]
  },
  {
   "cell_type": "code",
   "execution_count": null,
   "id": "1cd83847",
   "metadata": {},
   "outputs": [],
   "source": [
    "# Load test loader\n",
    "_, _, test_loader = get_dataloaders()\n",
    "\n",
    "# Show predictions\n",
    "show_predictions(model1, test_loader, num_images=10)"
   ]
  },
  {
   "cell_type": "code",
   "execution_count": null,
   "id": "c002b609",
   "metadata": {},
   "outputs": [],
   "source": [
    "\n",
    "def show_predictions_one_per_class(model1, dataloader, class_names, save_path=\"../reports/Model1/predictions_per_class.png\"):\n",
    "    model1.eval()\n",
    "    shown_classes = set()\n",
    "    num_classes = len(class_names)\n",
    "    rows, cols = 3, 5 if num_classes <= 15 else (int(np.ceil(num_classes / 5)), 5)\n",
    "\n",
    "    plt.figure(figsize=(cols * 3, rows * 3))\n",
    "\n",
    "    with torch.no_grad():\n",
    "        for images, labels in dataloader:\n",
    "            images, labels = images.to(DEVICE), labels.to(DEVICE)\n",
    "            outputs = model1(images)\n",
    "            preds = torch.argmax(outputs, dim=1)\n",
    "\n",
    "            for i in range(images.size(0)):\n",
    "                true_cls = labels[i].item()\n",
    "                if true_cls in shown_classes:\n",
    "                    continue\n",
    "\n",
    "                img_np = images[i].cpu().permute(1, 2, 0).numpy()\n",
    "                img_np = (img_np - img_np.min()) / (img_np.max() - img_np.min())\n",
    "\n",
    "                idx = len(shown_classes)\n",
    "                plt.subplot(rows, cols, idx + 1)\n",
    "                plt.imshow(img_np)\n",
    "                plt.title(f\"✅ {class_names[true_cls]}\\n🔮 {class_names[preds[i]]}\",\n",
    "                          color=\"green\" if preds[i] == labels[i] else \"red\", fontsize=9)\n",
    "                plt.axis(\"off\")\n",
    "                shown_classes.add(true_cls)\n",
    "\n",
    "                if len(shown_classes) == num_classes:\n",
    "                    break\n",
    "            if len(shown_classes) == num_classes:\n",
    "                break\n",
    "\n",
    "    plt.tight_layout()\n",
    "\n",
    "    os.makedirs(os.path.dirname(save_path), exist_ok=True)\n",
    "    plt.savefig(save_path, dpi=300)\n",
    "    plt.show()\n",
    "\n",
    "    print(f\"🖼️ Saved prediction preview grid to: {save_path}\")\n",
    "# Show one prediction per class\n",
    "show_predictions_one_per_class(model1, test_loader, class_names)"
   ]
  },
  {
   "cell_type": "code",
   "execution_count": null,
   "id": "fbd1cda4",
   "metadata": {},
   "outputs": [],
   "source": [
    "import matplotlib.pyplot as plt\n",
    "import pandas as pd\n",
    "import numpy as np\n",
    "\n",
    "# Load both CSVs into DataFrames\n",
    "df1 = pd.read_csv(\"../reports/Model1/per_class_metrics.csv\")  # 93% model\n",
    "df2 = pd.read_csv(\"../reports/per_class_metrics.csv\")  # 91% model\n",
    "\n",
    "# Sort by class name to align bars\n",
    "df1 = df1.sort_values(\"Class\")\n",
    "df2 = df2.sort_values(\"Class\")\n",
    "\n",
    "classes = df1[\"Class\"]\n",
    "x = np.arange(len(classes))\n",
    "width = 0.35\n",
    "\n",
    "plt.figure(figsize=(14, 6))\n",
    "plt.bar(x - width/2, df1[\"F1-Score\"], width, label=\"Model 1 (93%)\", color=\"#3CB371\")\n",
    "plt.bar(x + width/2, df2[\"F1-Score\"], width, label=\"Model 2 (91%)\", color=\"#FF6B6B\")\n",
    "\n",
    "plt.xticks(x, classes, rotation=45, ha=\"right\")\n",
    "plt.ylabel(\"F1-Score\")\n",
    "plt.title(\"🔍 Per-Class F1-Score Comparison\")\n",
    "plt.legend()\n",
    "plt.tight_layout()\n",
    "plt.grid(axis=\"y\", linestyle=\"--\", alpha=0.5)\n",
    "plt.savefig(\"../reports/f1_score_comparison.png\", dpi=300)\n",
    "plt.show()\n"
   ]
  },
  {
   "cell_type": "code",
   "execution_count": null,
   "id": "12577676",
   "metadata": {},
   "outputs": [],
   "source": [
    "import matplotlib.pyplot as plt\n",
    "import pandas as pd\n",
    "import numpy as np\n",
    "import os\n",
    "\n",
    "def compare_classwise_metrics(df1_path, df2_path, metrics=[\"Precision\", \"Recall\", \"F1-Score\"], \n",
    "                               class_col=\"Class\", labels=(\"Model 1 (93%)\", \"Model 2 (91%)\"),\n",
    "                               save_path=\"../reports/Model1/per_class_comparison.png\"):\n",
    "    # Load and align\n",
    "    df1 = pd.read_csv(df1_path).sort_values(class_col)\n",
    "    df2 = pd.read_csv(df2_path).sort_values(class_col)\n",
    "    classes = df1[class_col]\n",
    "    x = np.arange(len(classes))\n",
    "    width = 0.35\n",
    "\n",
    "    fig, axes = plt.subplots(nrows=len(metrics), ncols=1, figsize=(15, 5 * len(metrics)))\n",
    "\n",
    "    if len(metrics) == 1:\n",
    "        axes = [axes]\n",
    "\n",
    "    for i, metric in enumerate(metrics):\n",
    "        ax = axes[i]\n",
    "        ax.bar(x - width/2, df1[metric], width, label=labels[0], color=\"#3CB371\")\n",
    "        ax.bar(x + width/2, df2[metric], width, label=labels[1], color=\"#FF6B6B\")\n",
    "        ax.set_title(f\"🔍 Per-Class {metric} Comparison\", fontsize=14)\n",
    "        ax.set_xticks(x)\n",
    "        ax.set_xticklabels(classes, rotation=45, ha=\"right\")\n",
    "        ax.set_ylabel(metric)\n",
    "        ax.grid(axis=\"y\", linestyle=\"--\", alpha=0.5)\n",
    "\n",
    "    axes[0].legend()\n",
    "    fig.tight_layout()\n",
    "    \n",
    "    os.makedirs(os.path.dirname(save_path), exist_ok=True)\n",
    "    plt.savefig(save_path, dpi=300)\n",
    "    plt.show()\n",
    "    print(f\"✅ Saved metric comparison plot to: {save_path}\")\n"
   ]
  },
  {
   "cell_type": "code",
   "execution_count": 29,
   "id": "91e8286b",
   "metadata": {},
   "outputs": [
    {
     "data": {
      "image/png": "[encoded data removed]",
      "text/plain": [
       "<Figure size 1500x1500 with 3 Axes>"
      ]
     },
     "metadata": {},
     "output_type": "display_data"
    },
    {
     "name": "stdout",
     "output_type": "stream",
     "text": [
      "✅ Saved metric comparison plot to: ../reports/Model1/per_class_comparison.png\n"
     ]
    }
   ],
   "source": [
    "compare_classwise_metrics(\n",
    "    \"../reports/Model1/per_class_metrics.csv\",\n",
    "    \"../reports/per_class_metrics.csv\",\n",
    "    metrics=[\"Precision\", \"Recall\", \"F1-Score\"]\n",
    ")\n"
   ]
  },
  {
   "cell_type": "code",
   "execution_count": null,
   "id": "dcf2e9da",
   "metadata": {},
   "outputs": [],
   "source": [
    "df1[\"Error\"] = 1 - df1[\"F1-Score\"]\n",
    "\n"
   ]
  },
  {
   "cell_type": "code",
   "execution_count": null,
   "id": "0b384a8a",
   "metadata": {},
   "outputs": [],
   "source": [
    "df2[\"Error\"] = 1 - df2[\"F1-Score\"]"
   ]
  },
  {
   "cell_type": "markdown",
   "id": "4941451f",
   "metadata": {},
   "source": [
    "## Export the mlflow"
   ]
  },
  {
   "cell_type": "markdown",
   "id": "e11c34d3",
   "metadata": {},
   "source": [
    "```\n",
    "pip install git+https://github.com/mlflow/mlflow-export-import\n",
    "\n",
    "```\n",
    "\n",
    "Now you can back up your full experiment like this:\n",
    "```\n",
    "export-experiment \\\n",
    "  --experiment-name \"your_experiment_name\" \\\n",
    "  --output-dir \"./mlflow_backup/your_experiment\"\n",
    "\n",
    "```\n",
    "And re-import it later using:\n",
    "```\n",
    "import-experiment \\\n",
    "  --experiment-name \"restored_experiment\" \\\n",
    "  --input-dir \"./mlflow_backup/your_experiment\"\n",
    "\n",
    "```"
   ]
  },
  {
   "cell_type": "markdown",
   "id": "864c4ff8",
   "metadata": {},
   "source": []
  },
  {
   "cell_type": "code",
   "execution_count": null,
   "id": "a0d6d9f2",
   "metadata": {},
   "outputs": [],
   "source": [
    "import tensorflow as tf\n",
    "import streamlit as st\n",
    "\n",
    "print(\"✅ TensorFlow version:\", tf.__version__)\n",
    "print(\"✅ Streamlit version:\", st.__version__)\n"
   ]
  },
  {
   "cell_type": "code",
   "execution_count": null,
   "id": "10db0552",
   "metadata": {},
   "outputs": [],
   "source": []
  }
 ],
 "metadata": {
  "kernelspec": {
   "display_name": "Python 3",
   "language": "python",
   "name": "python3"
  },
  "language_info": {
   "codemirror_mode": {
    "name": "ipython",
    "version": 3
   },
   "file_extension": ".py",
   "mimetype": "text/x-python",
   "name": "python",
   "nbconvert_exporter": "python",
   "pygments_lexer": "ipython3",
   "version": "3.12.6"
  }
 },
 "nbformat": 4,
 "nbformat_minor": 5
}
