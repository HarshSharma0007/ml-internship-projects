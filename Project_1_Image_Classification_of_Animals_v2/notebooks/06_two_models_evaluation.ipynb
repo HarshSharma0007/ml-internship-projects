{
 "cells": [
  {
   "cell_type": "markdown",
   "id": "8e65b6df",
   "metadata": {},
   "source": [
    "### Import"
   ]
  },
  {
   "cell_type": "code",
   "execution_count": 17,
   "id": "eea2b2b6",
   "metadata": {},
   "outputs": [],
   "source": [
    "import os\n",
    "import sys\n",
    "import mlflow\n",
    "# 🔁 Add your project root to Python path\n",
    "project_root = os.path.abspath(\"..\")  # or \"../ProjectName\" if nested deeper\n",
    "if project_root not in sys.path:\n",
    "    sys.path.insert(0, project_root)\n",
    "# Now you can import modules from the root directory\n",
    "import torch\n",
    "import numpy as np\n",
    "import matplotlib.pyplot as plt\n",
    "import glob\n",
    "from src.dataloader import get_dataloaders\n",
    "from src.models.resnet import get_model  # or use build_effnet if swapping\n",
    "from sklearn.metrics import confusion_matrix, ConfusionMatrixDisplay\n",
    "from src.dataloader import get_dataloaders\n",
    "from src.models.resnet import get_model  # or adapt for EffNet later\n"
   ]
  },
  {
   "cell_type": "markdown",
   "id": "5940ed0e",
   "metadata": {},
   "source": [
    "## Working"
   ]
  },
  {
   "cell_type": "code",
   "execution_count": 13,
   "id": "34da80cc",
   "metadata": {},
   "outputs": [],
   "source": [
    "import warnings\n",
    "warnings.filterwarnings(\"ignore\")"
   ]
  },
  {
   "cell_type": "code",
   "execution_count": null,
   "id": "17330fef",
   "metadata": {},
   "outputs": [],
   "source": [
    "\n",
    "# mlflow.set_tracking_uri(\"file:../mlruns\")\n",
    "# from mlflow.tracking import MlflowClient\n",
    "# client = MlflowClient()"
   ]
  },
  {
   "cell_type": "code",
   "execution_count": null,
   "id": "fd310187",
   "metadata": {},
   "outputs": [],
   "source": [
    "\n",
    "\n",
    "\n",
    "\n",
    "# experiment = client.get_experiment_by_name(\"animal_classifier_v2\")\n",
    "# runs = client.search_runs([experiment.experiment_id])\n",
    "\n",
    "# for run in runs:\n",
    "#     print(f\"Run ID: {run.info.run_id}\")\n",
    "#     print(f\"Params: {run.data.params}\")\n",
    "#     print(f\"Artifacts: {[a.path for a in client.list_artifacts(run.info.run_id)]}\")\n",
    "#     print(\"---\")\n"
   ]
  },
  {
   "cell_type": "code",
   "execution_count": null,
   "id": "04127a61",
   "metadata": {},
   "outputs": [],
   "source": [
    "def evaluate_model_accuracy(model, dataloader, device=\"cpu\"):\n",
    "    model.to(device)\n",
    "    model.eval()\n",
    "    correct, total = 0, 0\n",
    "\n",
    "    with torch.no_grad():\n",
    "        for images, labels in dataloader:\n",
    "            images, labels = images.to(device), labels.to(device)\n",
    "            outputs = model(images)\n",
    "            preds = torch.argmax(outputs, dim=1)\n",
    "            correct += (preds == labels).sum().item()\n",
    "            total += labels.size(0)\n",
    "\n",
    "    return correct / total\n",
    "\n",
    "\n",
    "\n",
    "def auto_evaluate_all_models(model_dir=\"../models\", device=\"cpu\"):\n",
    "    \n",
    "    _, _, test_loader = get_dataloaders()\n",
    "    model_files = sorted(\n",
    "        glob.glob(os.path.join(model_dir, \"*.pt\")),\n",
    "        key=os.path.getctime\n",
    "    )\n",
    "\n",
    "    if not model_files:\n",
    "        print(\"⚠️ No models found in folder.\")\n",
    "        return\n",
    "\n",
    "    for path in model_files:\n",
    "        model = get_model()\n",
    "        model.load_state_dict(torch.load(path, map_location=device))\n",
    "        acc = evaluate_model_accuracy(model, test_loader, device)\n",
    "\n",
    "        timestamp = datetime.fromtimestamp(os.path.getctime(path)).strftime(\"%Y-%m-%d %H:%M:%S\")\n",
    "        print(f\"📦 {os.path.basename(path)} — Accuracy: {acc:.4f} (Saved: {timestamp})\")\n",
    "\n",
    "auto_evaluate_all_models()\n",
    "\n"
   ]
  },
  {
   "cell_type": "code",
   "execution_count": null,
   "id": "ddcde1af",
   "metadata": {},
   "outputs": [],
   "source": []
  },
  {
   "cell_type": "code",
   "execution_count": null,
   "id": "f93cb3d0",
   "metadata": {},
   "outputs": [
    {
     "name": "stdout",
     "output_type": "stream",
     "text": [
      "📦 resnet18_20250702_155546.pt — Accuracy: 0.9315 (Saved: 2025-07-02 15:56:47)\n",
      "📦 resnet18_20250702_155758.pt — Accuracy: 0.9178 (Saved: 2025-07-02 16:00:24)\n"
     ]
    }
   ],
   "source": []
  },
  {
   "cell_type": "code",
   "execution_count": null,
   "id": "26d87973",
   "metadata": {},
   "outputs": [],
   "source": []
  }
 ],
 "metadata": {
  "kernelspec": {
   "display_name": "Python 3",
   "language": "python",
   "name": "python3"
  },
  "language_info": {
   "codemirror_mode": {
    "name": "ipython",
    "version": 3
   },
   "file_extension": ".py",
   "mimetype": "text/x-python",
   "name": "python",
   "nbconvert_exporter": "python",
   "pygments_lexer": "ipython3",
   "version": "3.12.6"
  }
 },
 "nbformat": 4,
 "nbformat_minor": 5
}
