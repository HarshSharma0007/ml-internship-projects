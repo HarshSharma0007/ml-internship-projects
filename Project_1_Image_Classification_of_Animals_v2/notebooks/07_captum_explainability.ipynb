{
 "cells": [
  {
   "cell_type": "markdown",
   "id": "70f786dc",
   "metadata": {},
   "source": [
    "### Imports"
   ]
  },
  {
   "cell_type": "markdown",
   "id": "7978319b",
   "metadata": {},
   "source": [
    "Installation Of Captum"
   ]
  },
  {
   "cell_type": "code",
   "execution_count": 1,
   "id": "0e5cb0b9",
   "metadata": {},
   "outputs": [],
   "source": [
    "# %pip install captum"
   ]
  },
  {
   "cell_type": "markdown",
   "id": "6123f57d",
   "metadata": {},
   "source": [
    "importing the desired libraries."
   ]
  },
  {
   "cell_type": "code",
   "execution_count": null,
   "id": "c9d5d4bd",
   "metadata": {},
   "outputs": [
    {
     "name": "stderr",
     "output_type": "stream",
     "text": [
      "C:\\Users\\DELL\\AppData\\Roaming\\Python\\Python312\\site-packages\\IPython\\core\\magics\\osm.py:417: UserWarning: This is now an optional IPython functionality, setting dhist requires you to install the `pickleshare` library.\n",
      "  self.shell.db['dhist'] = compress_dhist(dhist)[-100:]\n"
     ]
    },
    {
     "name": "stdout",
     "output_type": "stream",
     "text": [
      "c:\\Users\\DELL\\Documents\\GitHub\\ml-internship-projects\\Project_1_Image_Classification_of_Animals_v2\n"
     ]
    },
    {
     "name": "stderr",
     "output_type": "stream",
     "text": [
      "C:\\Users\\DELL\\AppData\\Roaming\\Python\\Python312\\site-packages\\tqdm\\auto.py:21: TqdmWarning: IProgress not found. Please update jupyter and ipywidgets. See https://ipywidgets.readthedocs.io/en/stable/user_install.html\n",
      "  from .autonotebook import tqdm as notebook_tqdm\n"
     ]
    }
   ],
   "source": [
    "# # Importing the desired libraries.\n",
    "# import torch\n",
    "# from torchvision import transforms\n",
    "# import os\n",
    "# from PIL import Image\n",
    "# %cd .. \n",
    "# # Change to the project root directory\n",
    "# from src.interpret.captum_visualizer import get_attributions, plot_attributions\n",
    "# import warnings\n",
    "# warnings.filterwarnings(\"ignore\")"
   ]
  },
  {
   "cell_type": "code",
   "execution_count": 3,
   "id": "6e6c5ea8",
   "metadata": {},
   "outputs": [],
   "source": [
    "# def explain_prediction(model, input_tensor, target_class, original_image, save_path=None):\n",
    "#     model.eval()\n",
    "#     ig = IntegratedGradients(model)\n",
    "#     attributions = ig.attribute(input_tensor, target=target_class, n_steps=200)\n",
    "\n",
    "#     attr_np = attributions.squeeze().cpu().detach().numpy().transpose(1, 2, 0)\n",
    "#     orig_np = original_image.squeeze().cpu().detach().numpy().transpose(1, 2, 0)\n",
    "\n",
    "#     _ = viz.visualize_image_attr(\n",
    "#         attr_np,\n",
    "#         orig_np,\n",
    "#         method=\"heat_map\",\n",
    "#         sign=\"positive\",\n",
    "#         show_colorbar=True,\n",
    "#         title=f\"Attribution for class {target_class}\"\n",
    "#     )\n",
    "\n",
    "#     if save_path:\n",
    "#         plt.savefig(save_path, dpi=300)\n",
    "#         print(f\"✅ Attribution saved to: {save_path}\")"
   ]
  },
  {
   "cell_type": "markdown",
   "id": "03c32891",
   "metadata": {},
   "source": [
    "### Load model"
   ]
  },
  {
   "cell_type": "code",
   "execution_count": null,
   "id": "42f11631",
   "metadata": {},
   "outputs": [
    {
     "data": {
      "text/plain": [
       "'c:\\\\Users\\\\DELL\\\\Documents\\\\GitHub\\\\ml-internship-projects\\\\Project_1_Image_Classification_of_Animals_v2'"
      ]
     },
     "execution_count": 5,
     "metadata": {},
     "output_type": "execute_result"
    }
   ],
   "source": [
    "# os.getcwd()"
   ]
  },
  {
   "cell_type": "code",
   "execution_count": null,
   "id": "d437f87c",
   "metadata": {},
   "outputs": [
    {
     "ename": "AttributeError",
     "evalue": "'collections.OrderedDict' object has no attribute 'eval'",
     "output_type": "error",
     "traceback": [
      "\u001b[1;31m---------------------------------------------------------------------------\u001b[0m",
      "\u001b[1;31mAttributeError\u001b[0m                            Traceback (most recent call last)",
      "Cell \u001b[1;32mIn[6], line 2\u001b[0m\n\u001b[0;32m      1\u001b[0m model \u001b[38;5;241m=\u001b[39m torch\u001b[38;5;241m.\u001b[39mload(\u001b[38;5;124m\"\u001b[39m\u001b[38;5;124mmodels/resnet18_20250702_155546.pt\u001b[39m\u001b[38;5;124m\"\u001b[39m)\n\u001b[1;32m----> 2\u001b[0m \u001b[43mmodel\u001b[49m\u001b[38;5;241;43m.\u001b[39;49m\u001b[43meval\u001b[49m()\n",
      "\u001b[1;31mAttributeError\u001b[0m: 'collections.OrderedDict' object has no attribute 'eval'"
     ]
    }
   ],
   "source": [
    "# model = torch.load(\"models/resnet18_20250702_155546.pt\")\n",
    "# model.eval()\n"
   ]
  },
  {
   "cell_type": "markdown",
   "id": "1613a92e",
   "metadata": {},
   "source": [
    "### 🖼️ Image Preprocessing (match your training pipeline)"
   ]
  },
  {
   "cell_type": "code",
   "execution_count": null,
   "id": "5ed4af4d",
   "metadata": {},
   "outputs": [],
   "source": [
    "# transform = transforms.Compose([\n",
    "#     transforms.Resize((224, 224)),\n",
    "#     transforms.ToTensor(),\n",
    "#     transforms.Normalize(mean=[0.5]*3, std=[0.5]*3)\n",
    "# ])"
   ]
  },
  {
   "cell_type": "code",
   "execution_count": null,
   "id": "82f4f0f7",
   "metadata": {},
   "outputs": [],
   "source": [
    "\n",
    "\n",
    "\n",
    "\n",
    "\n",
    "\n",
    "\n",
    "# # 🐾 Load a test image\n",
    "# image_path = \"../data/test/zebra/zebra1.jpg\"\n",
    "# original_image = Image.open(image_path).convert(\"RGB\")\n",
    "# input_tensor = transform(original_image).unsqueeze(0)\n",
    "\n",
    "# # 🎓 Predict class\n",
    "# with torch.no_grad():\n",
    "#     output = model(input_tensor)\n",
    "#     predicted_class = torch.argmax(output, dim=1).item()\n",
    "\n",
    "# # 🔍 Generate attribution\n",
    "# attributions = get_attributions(model, input_tensor, predicted_class)\n",
    "\n",
    "# # 🧠 Visualize\n",
    "# plot_attributions(\n",
    "#     attributions=attributions,\n",
    "#     original_image=input_tensor,\n",
    "#     target_label=f\"Class {predicted_class}\",\n",
    "#     save_path=f\"../reports/explainability/zebra_explained.png\"\n",
    "# )"
   ]
  }
 ],
 "metadata": {
  "kernelspec": {
   "display_name": "Python 3",
   "language": "python",
   "name": "python3"
  },
  "language_info": {
   "codemirror_mode": {
    "name": "ipython",
    "version": 3
   },
   "file_extension": ".py",
   "mimetype": "text/x-python",
   "name": "python",
   "nbconvert_exporter": "python",
   "pygments_lexer": "ipython3",
   "version": "3.12.6"
  }
 },
 "nbformat": 4,
 "nbformat_minor": 5
}
